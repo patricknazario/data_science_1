{
 "cells": [
  {
   "cell_type": "markdown",
   "metadata": {},
   "source": [
    "<div style=\"color:white;background-color:#0B244E;padding:20px;width:100%\">\n",
    "<img src=\"https://www.eseg.edu.br/assets/dist/assets/images/logo/136x136.svg\" style=\"\"></img>\n",
    "</div>\n",
    "<div style=\"color:white;background-color:#0B244E;padding:20px;width:100%;border-top: 1px solid white\">\n",
    "Data Science 1 / Prof. Fernando Pablos\n",
    "</div>"
   ]
  },
  {
   "cell_type": "markdown",
   "metadata": {},
   "source": [
    "<h1>Análise Exploratória - Exercícios</h1>\n",
    "\n",
    "\n"
   ]
  },
  {
   "cell_type": "markdown",
   "metadata": {},
   "source": [
    "<p>Exercício 1 - Realize a importação do arquivo dataset_vendas_online.csv</p>"
   ]
  },
  {
   "cell_type": "code",
   "execution_count": 19,
   "metadata": {},
   "outputs": [
    {
     "data": {
      "text/html": [
       "<div>\n",
       "<style scoped>\n",
       "    .dataframe tbody tr th:only-of-type {\n",
       "        vertical-align: middle;\n",
       "    }\n",
       "\n",
       "    .dataframe tbody tr th {\n",
       "        vertical-align: top;\n",
       "    }\n",
       "\n",
       "    .dataframe thead th {\n",
       "        text-align: right;\n",
       "    }\n",
       "</style>\n",
       "<table border=\"1\" class=\"dataframe\">\n",
       "  <thead>\n",
       "    <tr style=\"text-align: right;\">\n",
       "      <th></th>\n",
       "      <th>col1</th>\n",
       "      <th>col2</th>\n",
       "      <th>catA</th>\n",
       "      <th>catB</th>\n",
       "      <th>num1</th>\n",
       "      <th>num2</th>\n",
       "    </tr>\n",
       "  </thead>\n",
       "  <tbody>\n",
       "    <tr>\n",
       "      <th>0</th>\n",
       "      <td>174.84</td>\n",
       "      <td>3.0</td>\n",
       "      <td>Beleza</td>\n",
       "      <td>Pix</td>\n",
       "      <td>34.0</td>\n",
       "      <td>7.76</td>\n",
       "    </tr>\n",
       "    <tr>\n",
       "      <th>1</th>\n",
       "      <td>143.09</td>\n",
       "      <td>32.0</td>\n",
       "      <td>Beleza</td>\n",
       "      <td>Pix</td>\n",
       "      <td>40.0</td>\n",
       "      <td>4.94</td>\n",
       "    </tr>\n",
       "    <tr>\n",
       "      <th>2</th>\n",
       "      <td>182.38</td>\n",
       "      <td>3.0</td>\n",
       "      <td>Eletrônico</td>\n",
       "      <td>Pix</td>\n",
       "      <td>41.0</td>\n",
       "      <td>9.91</td>\n",
       "    </tr>\n",
       "    <tr>\n",
       "      <th>3</th>\n",
       "      <td>226.15</td>\n",
       "      <td>27.0</td>\n",
       "      <td>Beleza</td>\n",
       "      <td>Cartão Débito</td>\n",
       "      <td>62.0</td>\n",
       "      <td>22.70</td>\n",
       "    </tr>\n",
       "    <tr>\n",
       "      <th>4</th>\n",
       "      <td>138.29</td>\n",
       "      <td>29.0</td>\n",
       "      <td>Beleza</td>\n",
       "      <td>Cartão Credito</td>\n",
       "      <td>36.0</td>\n",
       "      <td>15.58</td>\n",
       "    </tr>\n",
       "  </tbody>\n",
       "</table>\n",
       "</div>"
      ],
      "text/plain": [
       "     col1  col2        catA            catB  num1   num2\n",
       "0  174.84   3.0      Beleza             Pix  34.0   7.76\n",
       "1  143.09  32.0      Beleza             Pix  40.0   4.94\n",
       "2  182.38   3.0  Eletrônico             Pix  41.0   9.91\n",
       "3  226.15  27.0      Beleza   Cartão Débito  62.0  22.70\n",
       "4  138.29  29.0      Beleza  Cartão Credito  36.0  15.58"
      ]
     },
     "execution_count": 19,
     "metadata": {},
     "output_type": "execute_result"
    }
   ],
   "source": [
    "import pandas as pd \n",
    "df = pd.read_csv('dataset_vendas_online.csv')\n",
    "df.head()"
   ]
  },
  {
   "cell_type": "markdown",
   "metadata": {},
   "source": [
    "<p>Exercício 2 - Os nomes das colunas são muito esquisitos. Após consultarmos o analista responsável pela planilha, ele nos explicou que:</p>\n",
    "<ul>\n",
    "<li>col1 é o preço do produto</li>\n",
    "<li>col2 é a quantidade vendida</li>\n",
    "<li>catA é a categoria do produto</li>\n",
    "<li>catB é o meio de pagamento</li>\n",
    "<li>num1 é a idade do cliente</li>\n",
    "<li>num2 é o valor do desconto aplicado</li>\n",
    "</ul>\n",
    "\n",
    "<p>Corrija os nomes das colunas</p>"
   ]
  },
  {
   "cell_type": "code",
   "execution_count": 20,
   "metadata": {},
   "outputs": [
    {
     "data": {
      "text/html": [
       "<div>\n",
       "<style scoped>\n",
       "    .dataframe tbody tr th:only-of-type {\n",
       "        vertical-align: middle;\n",
       "    }\n",
       "\n",
       "    .dataframe tbody tr th {\n",
       "        vertical-align: top;\n",
       "    }\n",
       "\n",
       "    .dataframe thead th {\n",
       "        text-align: right;\n",
       "    }\n",
       "</style>\n",
       "<table border=\"1\" class=\"dataframe\">\n",
       "  <thead>\n",
       "    <tr style=\"text-align: right;\">\n",
       "      <th></th>\n",
       "      <th>preço do produto</th>\n",
       "      <th>quantidade vendida</th>\n",
       "      <th>preço do produto</th>\n",
       "      <th>meio de pagamento</th>\n",
       "      <th>idade do cliente</th>\n",
       "      <th>valor do desconto aplicado</th>\n",
       "    </tr>\n",
       "  </thead>\n",
       "  <tbody>\n",
       "    <tr>\n",
       "      <th>0</th>\n",
       "      <td>174.84</td>\n",
       "      <td>3.0</td>\n",
       "      <td>Beleza</td>\n",
       "      <td>Pix</td>\n",
       "      <td>34.0</td>\n",
       "      <td>7.76</td>\n",
       "    </tr>\n",
       "    <tr>\n",
       "      <th>1</th>\n",
       "      <td>143.09</td>\n",
       "      <td>32.0</td>\n",
       "      <td>Beleza</td>\n",
       "      <td>Pix</td>\n",
       "      <td>40.0</td>\n",
       "      <td>4.94</td>\n",
       "    </tr>\n",
       "    <tr>\n",
       "      <th>2</th>\n",
       "      <td>182.38</td>\n",
       "      <td>3.0</td>\n",
       "      <td>Eletrônico</td>\n",
       "      <td>Pix</td>\n",
       "      <td>41.0</td>\n",
       "      <td>9.91</td>\n",
       "    </tr>\n",
       "    <tr>\n",
       "      <th>3</th>\n",
       "      <td>226.15</td>\n",
       "      <td>27.0</td>\n",
       "      <td>Beleza</td>\n",
       "      <td>Cartão Débito</td>\n",
       "      <td>62.0</td>\n",
       "      <td>22.70</td>\n",
       "    </tr>\n",
       "    <tr>\n",
       "      <th>4</th>\n",
       "      <td>138.29</td>\n",
       "      <td>29.0</td>\n",
       "      <td>Beleza</td>\n",
       "      <td>Cartão Credito</td>\n",
       "      <td>36.0</td>\n",
       "      <td>15.58</td>\n",
       "    </tr>\n",
       "  </tbody>\n",
       "</table>\n",
       "</div>"
      ],
      "text/plain": [
       "  preço do produto  quantidade vendida preço do produto meio de pagamento  \\\n",
       "0           174.84                 3.0           Beleza               Pix   \n",
       "1           143.09                32.0           Beleza               Pix   \n",
       "2           182.38                 3.0       Eletrônico               Pix   \n",
       "3           226.15                27.0           Beleza     Cartão Débito   \n",
       "4           138.29                29.0           Beleza    Cartão Credito   \n",
       "\n",
       "   idade do cliente  valor do desconto aplicado  \n",
       "0              34.0                        7.76  \n",
       "1              40.0                        4.94  \n",
       "2              41.0                        9.91  \n",
       "3              62.0                       22.70  \n",
       "4              36.0                       15.58  "
      ]
     },
     "execution_count": 20,
     "metadata": {},
     "output_type": "execute_result"
    }
   ],
   "source": [
    "df = df.rename(columns={\n",
    "    'col1':'preço do produto',\n",
    "    'col2': 'quantidade vendida',\n",
    "    'catA': 'preço do produto',\n",
    "    'catB': 'meio de pagamento',\n",
    "    'num1':'idade do cliente',\n",
    "    'num2': 'valor do desconto aplicado'}) \n",
    "df.head()                       "
   ]
  },
  {
   "cell_type": "markdown",
   "metadata": {},
   "source": [
    "<p style=\"color:blue; background-color:gray\">Vamos observar mais a fundo nossa planilha:</p>"
   ]
  },
  {
   "cell_type": "code",
   "execution_count": null,
   "metadata": {},
   "outputs": [],
   "source": [
    "df.info() #Execute esse código"
   ]
  },
  {
   "cell_type": "markdown",
   "metadata": {},
   "source": [
    "<p>Exercício 3 - Precisamos tratar os dados faltantes.</p>\n",
    "<p>No caso do preço do produto, vamos atribuir a mediana</p>\n",
    "<p>Na quantidade vendida, a média</p>\n",
    "<p>Na idade do cliente, a moda</p>\n"
   ]
  },
  {
   "cell_type": "code",
   "execution_count": 26,
   "metadata": {},
   "outputs": [
    {
     "ename": "KeyError",
     "evalue": "'Preço do produto'",
     "output_type": "error",
     "traceback": [
      "\u001b[1;31m---------------------------------------------------------------------------\u001b[0m",
      "\u001b[1;31mKeyError\u001b[0m                                  Traceback (most recent call last)",
      "File \u001b[1;32mc:\\Users\\patri\\anaconda3\\Lib\\site-packages\\pandas\\core\\indexes\\base.py:3805\u001b[0m, in \u001b[0;36mIndex.get_loc\u001b[1;34m(self, key)\u001b[0m\n\u001b[0;32m   3804\u001b[0m \u001b[38;5;28;01mtry\u001b[39;00m:\n\u001b[1;32m-> 3805\u001b[0m     \u001b[38;5;28;01mreturn\u001b[39;00m \u001b[38;5;28mself\u001b[39m\u001b[38;5;241m.\u001b[39m_engine\u001b[38;5;241m.\u001b[39mget_loc(casted_key)\n\u001b[0;32m   3806\u001b[0m \u001b[38;5;28;01mexcept\u001b[39;00m \u001b[38;5;167;01mKeyError\u001b[39;00m \u001b[38;5;28;01mas\u001b[39;00m err:\n",
      "File \u001b[1;32mindex.pyx:167\u001b[0m, in \u001b[0;36mpandas._libs.index.IndexEngine.get_loc\u001b[1;34m()\u001b[0m\n",
      "File \u001b[1;32mindex.pyx:191\u001b[0m, in \u001b[0;36mpandas._libs.index.IndexEngine.get_loc\u001b[1;34m()\u001b[0m\n",
      "File \u001b[1;32mindex.pyx:234\u001b[0m, in \u001b[0;36mpandas._libs.index.IndexEngine._get_loc_duplicates\u001b[1;34m()\u001b[0m\n",
      "File \u001b[1;32mindex.pyx:242\u001b[0m, in \u001b[0;36mpandas._libs.index.IndexEngine._maybe_get_bool_indexer\u001b[1;34m()\u001b[0m\n",
      "File \u001b[1;32mindex.pyx:134\u001b[0m, in \u001b[0;36mpandas._libs.index._unpack_bool_indexer\u001b[1;34m()\u001b[0m\n",
      "\u001b[1;31mKeyError\u001b[0m: 'Preço do produto'",
      "\nThe above exception was the direct cause of the following exception:\n",
      "\u001b[1;31mKeyError\u001b[0m                                  Traceback (most recent call last)",
      "Cell \u001b[1;32mIn[26], line 4\u001b[0m\n\u001b[0;32m      1\u001b[0m idade_do_cliente_moda \u001b[38;5;241m=\u001b[39m df[\u001b[38;5;124m'\u001b[39m\u001b[38;5;124midade do cliente\u001b[39m\u001b[38;5;124m'\u001b[39m]\u001b[38;5;241m.\u001b[39mmode()\n\u001b[0;32m      2\u001b[0m df[\u001b[38;5;124m'\u001b[39m\u001b[38;5;124midade do cliente\u001b[39m\u001b[38;5;124m'\u001b[39m] \u001b[38;5;241m=\u001b[39m df[\u001b[38;5;124m'\u001b[39m\u001b[38;5;124midade do cliente\u001b[39m\u001b[38;5;124m'\u001b[39m]\u001b[38;5;241m.\u001b[39mfillna(\u001b[38;5;124m'\u001b[39m\u001b[38;5;124midade do cliente\u001b[39m\u001b[38;5;124m'\u001b[39m[\u001b[38;5;241m0\u001b[39m])\n\u001b[1;32m----> 4\u001b[0m Preço_do_produto_mediana \u001b[38;5;241m=\u001b[39m df[\u001b[38;5;124m'\u001b[39m\u001b[38;5;124mPreço do produto\u001b[39m\u001b[38;5;124m'\u001b[39m]\u001b[38;5;241m.\u001b[39mmedian()\n\u001b[0;32m      5\u001b[0m df[\u001b[38;5;124m'\u001b[39m\u001b[38;5;124mPreço do produto\u001b[39m\u001b[38;5;124m'\u001b[39m] \u001b[38;5;241m=\u001b[39m df[\u001b[38;5;124m'\u001b[39m\u001b[38;5;124mPreço do produto\u001b[39m\u001b[38;5;124m'\u001b[39m]\u001b[38;5;241m.\u001b[39mfillna(lucro_mediana)\n\u001b[0;32m      7\u001b[0m Quantidade_vendida_mediana \u001b[38;5;241m=\u001b[39m df[\u001b[38;5;124m'\u001b[39m\u001b[38;5;124mQuantidade vendida\u001b[39m\u001b[38;5;124m'\u001b[39m]\u001b[38;5;241m.\u001b[39mmedian()\n",
      "File \u001b[1;32mc:\\Users\\patri\\anaconda3\\Lib\\site-packages\\pandas\\core\\frame.py:4102\u001b[0m, in \u001b[0;36mDataFrame.__getitem__\u001b[1;34m(self, key)\u001b[0m\n\u001b[0;32m   4100\u001b[0m \u001b[38;5;28;01mif\u001b[39;00m \u001b[38;5;28mself\u001b[39m\u001b[38;5;241m.\u001b[39mcolumns\u001b[38;5;241m.\u001b[39mnlevels \u001b[38;5;241m>\u001b[39m \u001b[38;5;241m1\u001b[39m:\n\u001b[0;32m   4101\u001b[0m     \u001b[38;5;28;01mreturn\u001b[39;00m \u001b[38;5;28mself\u001b[39m\u001b[38;5;241m.\u001b[39m_getitem_multilevel(key)\n\u001b[1;32m-> 4102\u001b[0m indexer \u001b[38;5;241m=\u001b[39m \u001b[38;5;28mself\u001b[39m\u001b[38;5;241m.\u001b[39mcolumns\u001b[38;5;241m.\u001b[39mget_loc(key)\n\u001b[0;32m   4103\u001b[0m \u001b[38;5;28;01mif\u001b[39;00m is_integer(indexer):\n\u001b[0;32m   4104\u001b[0m     indexer \u001b[38;5;241m=\u001b[39m [indexer]\n",
      "File \u001b[1;32mc:\\Users\\patri\\anaconda3\\Lib\\site-packages\\pandas\\core\\indexes\\base.py:3812\u001b[0m, in \u001b[0;36mIndex.get_loc\u001b[1;34m(self, key)\u001b[0m\n\u001b[0;32m   3807\u001b[0m     \u001b[38;5;28;01mif\u001b[39;00m \u001b[38;5;28misinstance\u001b[39m(casted_key, \u001b[38;5;28mslice\u001b[39m) \u001b[38;5;129;01mor\u001b[39;00m (\n\u001b[0;32m   3808\u001b[0m         \u001b[38;5;28misinstance\u001b[39m(casted_key, abc\u001b[38;5;241m.\u001b[39mIterable)\n\u001b[0;32m   3809\u001b[0m         \u001b[38;5;129;01mand\u001b[39;00m \u001b[38;5;28many\u001b[39m(\u001b[38;5;28misinstance\u001b[39m(x, \u001b[38;5;28mslice\u001b[39m) \u001b[38;5;28;01mfor\u001b[39;00m x \u001b[38;5;129;01min\u001b[39;00m casted_key)\n\u001b[0;32m   3810\u001b[0m     ):\n\u001b[0;32m   3811\u001b[0m         \u001b[38;5;28;01mraise\u001b[39;00m InvalidIndexError(key)\n\u001b[1;32m-> 3812\u001b[0m     \u001b[38;5;28;01mraise\u001b[39;00m \u001b[38;5;167;01mKeyError\u001b[39;00m(key) \u001b[38;5;28;01mfrom\u001b[39;00m \u001b[38;5;21;01merr\u001b[39;00m\n\u001b[0;32m   3813\u001b[0m \u001b[38;5;28;01mexcept\u001b[39;00m \u001b[38;5;167;01mTypeError\u001b[39;00m:\n\u001b[0;32m   3814\u001b[0m     \u001b[38;5;66;03m# If we have a listlike key, _check_indexing_error will raise\u001b[39;00m\n\u001b[0;32m   3815\u001b[0m     \u001b[38;5;66;03m#  InvalidIndexError. Otherwise we fall through and re-raise\u001b[39;00m\n\u001b[0;32m   3816\u001b[0m     \u001b[38;5;66;03m#  the TypeError.\u001b[39;00m\n\u001b[0;32m   3817\u001b[0m     \u001b[38;5;28mself\u001b[39m\u001b[38;5;241m.\u001b[39m_check_indexing_error(key)\n",
      "\u001b[1;31mKeyError\u001b[0m: 'Preço do produto'"
     ]
    }
   ],
   "source": [
    "idade_do_cliente_moda = df['idade do cliente'].mode()\n",
    "df['idade do cliente'] = df['idade do cliente'].fillna('idade do cliente'[0])\n",
    "\n",
    "Preço_do_produto_mediana = df['Preço do produto'].median()\n",
    "df['Preço do produto'] = df['Preço do produto'].fillna(lucro_mediana)\n",
    "\n",
    "Quantidade_vendida_mediana = df['Quantidade vendida'].median()\n",
    "df['Quantidade vendida'] = df['Quantidade vendida'].fillna(Quantidade_vendida_mediana)\n",
    "\n",
    "df.info()\n",
    "\n",
    "\n",
    "\n",
    "\n",
    "\n",
    "\n",
    "\n",
    "\n",
    "\n",
    "\n"
   ]
  },
  {
   "cell_type": "markdown",
   "metadata": {},
   "source": [
    "<p>Exercício 4 - Vamos analisar nossos dados categóricos, a saber: Categoria e Meio de Pagamento. Crie gráficos de barras para essas colunas para observar se está tudo ok.</p>"
   ]
  },
  {
   "cell_type": "code",
   "execution_count": null,
   "metadata": {},
   "outputs": [],
   "source": []
  },
  {
   "cell_type": "code",
   "execution_count": null,
   "metadata": {},
   "outputs": [],
   "source": []
  },
  {
   "cell_type": "markdown",
   "metadata": {},
   "source": [
    "<p>Exercício 5 - Remova os valores equivocados e unifique valores que foram digitados incorretamente</p>"
   ]
  },
  {
   "cell_type": "code",
   "execution_count": null,
   "metadata": {},
   "outputs": [],
   "source": [
    "\n"
   ]
  },
  {
   "cell_type": "markdown",
   "metadata": {},
   "source": [
    "<p>Exercício 6 - Vamos descrever (describe) os dados numéricos</p>"
   ]
  },
  {
   "cell_type": "code",
   "execution_count": null,
   "metadata": {},
   "outputs": [],
   "source": []
  },
  {
   "cell_type": "markdown",
   "metadata": {},
   "source": [
    "<p>Exercício 7 - Agora analise esses dados gerando boxplots e histogramas para os que parecem ter problemas e depois corrija os problemas identificados</p>"
   ]
  },
  {
   "cell_type": "code",
   "execution_count": null,
   "metadata": {},
   "outputs": [],
   "source": [
    "#Gere boxplots e histogramas\n"
   ]
  },
  {
   "cell_type": "code",
   "execution_count": null,
   "metadata": {},
   "outputs": [],
   "source": [
    "#Corrija os problemas identificados e comprove que foram corrigidos\n"
   ]
  },
  {
   "cell_type": "markdown",
   "metadata": {},
   "source": [
    "<p>Exercício 8 - Verifique se há alguma correlação entre as variáveis numéricas por meio de correlação e diagrama de dispersão</p>"
   ]
  },
  {
   "cell_type": "code",
   "execution_count": null,
   "metadata": {},
   "outputs": [],
   "source": []
  }
 ],
 "metadata": {
  "kernelspec": {
   "display_name": "base",
   "language": "python",
   "name": "python3"
  },
  "language_info": {
   "codemirror_mode": {
    "name": "ipython",
    "version": 3
   },
   "file_extension": ".py",
   "mimetype": "text/x-python",
   "name": "python",
   "nbconvert_exporter": "python",
   "pygments_lexer": "ipython3",
   "version": "3.12.7"
  }
 },
 "nbformat": 4,
 "nbformat_minor": 2
}
